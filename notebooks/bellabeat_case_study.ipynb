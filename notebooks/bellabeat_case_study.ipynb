{
 "cells": [
  {
   "cell_type": "markdown",
   "id": "f52b931e",
   "metadata": {},
   "source": [
    "<span style=\"font-size:1.8em;\">**BELLABEAT CASE STUDY**\n",
    "\n",
    "<span style=\"font-size:1.2em;\">How can a wellness technology company play it smart?\n",
    "\n",
    "![](https://encrypted-tbn0.gstatic.com/images?q=tbn:ANd9GcR2e4VRmdLrjFmcKmo0pKYtmOelzpMa0N5CpJFuxKLVlhQejHhjOdRIQLdopH3dbeXftY8&usqp=CAU%5D)"
   ]
  },
  {
   "cell_type": "markdown",
   "id": "133f8876",
   "metadata": {},
   "source": [
    "<span style=\"font-size:1.5em;\">**ABOUT THE COMPANY**\n",
    "\n",
    "<span style=\"font-size:1.1em;\">Bellabeat is a high-tech company that manufactures health-focused smart products. Founded in 2013 by artist Urška Sršen and mathematician Sando Mur, the company has many products carefully designed to monitor activity, stress, sleep, and reproductive data to help women better understand how their bodies work and make healthier choices. While small in size, Bellabeat has quickly positioned itself as a tech-driven wellness company for women. Chief Creative Officer, Urška Sršen, believes that analyzing smart device fitness data could help unlock new growth opportunities for the company.\n",
    "    \n",
    "<br>\n",
    "    \n",
    "<span style=\"font-size:1.5em;\">**BUSINESS TASK**\n",
    "\n",
    "<span style=\"font-size:1.1em;\">Focus on one of Bellabeat’s products and analyze smart device data to gain insight into how consumers use non-Bellabeat smart devices.\n",
    "    \n",
    "<br>\n",
    "    \n",
    "<span style=\"font-size:1.5em;\">**PRODUCT**\n",
    "\n",
    "<span style=\"font-size:1.1em;\"><b>Bellabeat app:</b> The Bellabeat app provides users with health data related to their activity, sleep, stress, menstrual cycle, and mindfulness habits. This data can help users better understand their current habits and make healthy decisions. The Bellabeat app connects to their line of smart wellness products.\n",
    "\n",
    "<br>\n",
    "\n",
    "<span style=\"font-size:1.5em;\">**STAKEHOLDERS**\n",
    "\n",
    "<span style=\"font-size:1.1em;\"> \n",
    "\n",
    "* <b>Urška Sršen</b> – Bellabeat’s cofounder and Chief Creative Officer.\n",
    "* <b>Sando Mur</b> – Mathematician and Bellabeat’s cofounder; key member of the Bellabeat executive team.\n",
    "* <b>Bellabeat marketing analytics team</b> – A team of data analysts responsible for collecting, analyzing, and reporting data that helps guide Bellabeat’s marketing strategy."
   ]
  },
  {
   "cell_type": "markdown",
   "id": "c1e7ce96",
   "metadata": {},
   "source": [
    "## **ASK**\n",
    "\n",
    "<span style=\"font-size:1.1em;\">\n",
    "    \n",
    "* What are some trends in smart device usage?\n",
    "* How could these trends apply to Bellabeat customers?\n",
    "* How could these trends help influence Bellabeat marketing strategy?"
   ]
  },
  {
   "cell_type": "markdown",
   "id": "0c254e40",
   "metadata": {},
   "source": [
    "## **Prepare**\n",
    "\n",
    "<span style=\"font-size:1.1em;\">\n",
    "\n",
    "We’ll be working with the Fitbit Fitness Tracker Data, made public on Kaggle and originally shared through Amazon Mechanical Turk. This dataset includes information from 30 Fitbit users, collected between March 12 and May 12, 2016.\n",
    "\n",
    "The data covers:\n",
    "\n",
    "Daily steps and activity levels <br>\n",
    "Calories burned <br>\n",
    "Sleep tracking<br>\n",
    "Heart rate and more<br>\n",
    "\n",
    "There are 18 CSV files, but the focus will on four beacause many files in the dataset are redundant, incomplete, or irrelevant for Bellabeat’s business.\n",
    "\n",
    "following are csv are used \n",
    "\n",
    "\n",
    "dailyActivity_merged.csv <br>\n",
    "hourlyCalories_merged.csv <br>\n",
    "hourlySteps_merged.csv <br>\n",
    "sleepDay_merged.csv"
   ]
  },
  {
   "cell_type": "markdown",
   "id": "f9721432",
   "metadata": {},
   "source": [
    "Importing libaries \n"
   ]
  },
  {
   "cell_type": "code",
   "execution_count": 1,
   "id": "80dde05a",
   "metadata": {},
   "outputs": [],
   "source": [
    "import pandas as pd\n",
    "import numpy as np\n",
    "import matplotlib.pyplot as plt\n",
    "import seaborn as sns\n",
    "import datetime as dt\n",
    "from pandas.api.types import CategoricalDtype\n",
    "\n"
   ]
  },
  {
   "cell_type": "code",
   "execution_count": 2,
   "id": "24c3f199",
   "metadata": {},
   "outputs": [],
   "source": [
    "daily_activity = pd.read_csv(r\"D:\\Projects\\bellabeat-case-study\\data\\dailyActivity_merged.csv\")\n",
    "hourly_calories = pd.read_csv(r'D:\\Projects\\bellabeat-case-study\\data\\hourlyCalories_merged.csv')\n",
    "hourly_steps = pd.read_csv(r'D:\\Projects\\bellabeat-case-study\\data\\hourlySteps_merged.csv')\n",
    "sleep = pd.read_csv(r'D:\\Projects\\bellabeat-case-study\\data\\sleepDay_merged.csv')"
   ]
  },
  {
   "cell_type": "markdown",
   "id": "d8edb4da",
   "metadata": {},
   "source": [
    "## **PROCESS**\n",
    "\n",
    "<span style=\"font-size:1.1em;\">We will begin this phase exploring our dataset to make clean and formated ready to analyze by performing the following operations.\n",
    "\n",
    "\n",
    "<span style=\"font-size:1.1em;\">\n",
    "    \n",
    "* Removing duplicates\n",
    "* Handling missing values\n",
    "* Converting data types\n",
    "* Renaming columns\n",
    "* Removing outliers\n",
    "* Merging datasets\n",
    "* Creating new columns\n",
    "\n",
    "<br>\n",
    "    "
   ]
  },
  {
   "cell_type": "markdown",
   "id": "8bdbf88e",
   "metadata": {},
   "source": [
    "Let's Have first look to our each dataset"
   ]
  },
  {
   "cell_type": "code",
   "execution_count": 3,
   "id": "fa2bbf3e",
   "metadata": {},
   "outputs": [
    {
     "data": {
      "text/html": [
       "<div>\n",
       "<style scoped>\n",
       "    .dataframe tbody tr th:only-of-type {\n",
       "        vertical-align: middle;\n",
       "    }\n",
       "\n",
       "    .dataframe tbody tr th {\n",
       "        vertical-align: top;\n",
       "    }\n",
       "\n",
       "    .dataframe thead th {\n",
       "        text-align: right;\n",
       "    }\n",
       "</style>\n",
       "<table border=\"1\" class=\"dataframe\">\n",
       "  <thead>\n",
       "    <tr style=\"text-align: right;\">\n",
       "      <th></th>\n",
       "      <th>Id</th>\n",
       "      <th>ActivityDate</th>\n",
       "      <th>TotalSteps</th>\n",
       "      <th>TotalDistance</th>\n",
       "      <th>TrackerDistance</th>\n",
       "      <th>LoggedActivitiesDistance</th>\n",
       "      <th>VeryActiveDistance</th>\n",
       "      <th>ModeratelyActiveDistance</th>\n",
       "      <th>LightActiveDistance</th>\n",
       "      <th>SedentaryActiveDistance</th>\n",
       "      <th>VeryActiveMinutes</th>\n",
       "      <th>FairlyActiveMinutes</th>\n",
       "      <th>LightlyActiveMinutes</th>\n",
       "      <th>SedentaryMinutes</th>\n",
       "      <th>Calories</th>\n",
       "    </tr>\n",
       "  </thead>\n",
       "  <tbody>\n",
       "    <tr>\n",
       "      <th>0</th>\n",
       "      <td>1503960366</td>\n",
       "      <td>4/12/2016</td>\n",
       "      <td>13162</td>\n",
       "      <td>8.50</td>\n",
       "      <td>8.50</td>\n",
       "      <td>0.0</td>\n",
       "      <td>1.88</td>\n",
       "      <td>0.55</td>\n",
       "      <td>6.06</td>\n",
       "      <td>0.0</td>\n",
       "      <td>25</td>\n",
       "      <td>13</td>\n",
       "      <td>328</td>\n",
       "      <td>728</td>\n",
       "      <td>1985</td>\n",
       "    </tr>\n",
       "    <tr>\n",
       "      <th>1</th>\n",
       "      <td>1503960366</td>\n",
       "      <td>4/13/2016</td>\n",
       "      <td>10735</td>\n",
       "      <td>6.97</td>\n",
       "      <td>6.97</td>\n",
       "      <td>0.0</td>\n",
       "      <td>1.57</td>\n",
       "      <td>0.69</td>\n",
       "      <td>4.71</td>\n",
       "      <td>0.0</td>\n",
       "      <td>21</td>\n",
       "      <td>19</td>\n",
       "      <td>217</td>\n",
       "      <td>776</td>\n",
       "      <td>1797</td>\n",
       "    </tr>\n",
       "    <tr>\n",
       "      <th>2</th>\n",
       "      <td>1503960366</td>\n",
       "      <td>4/14/2016</td>\n",
       "      <td>10460</td>\n",
       "      <td>6.74</td>\n",
       "      <td>6.74</td>\n",
       "      <td>0.0</td>\n",
       "      <td>2.44</td>\n",
       "      <td>0.40</td>\n",
       "      <td>3.91</td>\n",
       "      <td>0.0</td>\n",
       "      <td>30</td>\n",
       "      <td>11</td>\n",
       "      <td>181</td>\n",
       "      <td>1218</td>\n",
       "      <td>1776</td>\n",
       "    </tr>\n",
       "    <tr>\n",
       "      <th>3</th>\n",
       "      <td>1503960366</td>\n",
       "      <td>4/15/2016</td>\n",
       "      <td>9762</td>\n",
       "      <td>6.28</td>\n",
       "      <td>6.28</td>\n",
       "      <td>0.0</td>\n",
       "      <td>2.14</td>\n",
       "      <td>1.26</td>\n",
       "      <td>2.83</td>\n",
       "      <td>0.0</td>\n",
       "      <td>29</td>\n",
       "      <td>34</td>\n",
       "      <td>209</td>\n",
       "      <td>726</td>\n",
       "      <td>1745</td>\n",
       "    </tr>\n",
       "    <tr>\n",
       "      <th>4</th>\n",
       "      <td>1503960366</td>\n",
       "      <td>4/16/2016</td>\n",
       "      <td>12669</td>\n",
       "      <td>8.16</td>\n",
       "      <td>8.16</td>\n",
       "      <td>0.0</td>\n",
       "      <td>2.71</td>\n",
       "      <td>0.41</td>\n",
       "      <td>5.04</td>\n",
       "      <td>0.0</td>\n",
       "      <td>36</td>\n",
       "      <td>10</td>\n",
       "      <td>221</td>\n",
       "      <td>773</td>\n",
       "      <td>1863</td>\n",
       "    </tr>\n",
       "  </tbody>\n",
       "</table>\n",
       "</div>"
      ],
      "text/plain": [
       "           Id ActivityDate  TotalSteps  TotalDistance  TrackerDistance  \\\n",
       "0  1503960366    4/12/2016       13162           8.50             8.50   \n",
       "1  1503960366    4/13/2016       10735           6.97             6.97   \n",
       "2  1503960366    4/14/2016       10460           6.74             6.74   \n",
       "3  1503960366    4/15/2016        9762           6.28             6.28   \n",
       "4  1503960366    4/16/2016       12669           8.16             8.16   \n",
       "\n",
       "   LoggedActivitiesDistance  VeryActiveDistance  ModeratelyActiveDistance  \\\n",
       "0                       0.0                1.88                      0.55   \n",
       "1                       0.0                1.57                      0.69   \n",
       "2                       0.0                2.44                      0.40   \n",
       "3                       0.0                2.14                      1.26   \n",
       "4                       0.0                2.71                      0.41   \n",
       "\n",
       "   LightActiveDistance  SedentaryActiveDistance  VeryActiveMinutes  \\\n",
       "0                 6.06                      0.0                 25   \n",
       "1                 4.71                      0.0                 21   \n",
       "2                 3.91                      0.0                 30   \n",
       "3                 2.83                      0.0                 29   \n",
       "4                 5.04                      0.0                 36   \n",
       "\n",
       "   FairlyActiveMinutes  LightlyActiveMinutes  SedentaryMinutes  Calories  \n",
       "0                   13                   328               728      1985  \n",
       "1                   19                   217               776      1797  \n",
       "2                   11                   181              1218      1776  \n",
       "3                   34                   209               726      1745  \n",
       "4                   10                   221               773      1863  "
      ]
     },
     "execution_count": 3,
     "metadata": {},
     "output_type": "execute_result"
    }
   ],
   "source": [
    "daily_activity.head()"
   ]
  },
  {
   "cell_type": "code",
   "execution_count": 4,
   "id": "98156c1e",
   "metadata": {},
   "outputs": [
    {
     "data": {
      "text/html": [
       "<div>\n",
       "<style scoped>\n",
       "    .dataframe tbody tr th:only-of-type {\n",
       "        vertical-align: middle;\n",
       "    }\n",
       "\n",
       "    .dataframe tbody tr th {\n",
       "        vertical-align: top;\n",
       "    }\n",
       "\n",
       "    .dataframe thead th {\n",
       "        text-align: right;\n",
       "    }\n",
       "</style>\n",
       "<table border=\"1\" class=\"dataframe\">\n",
       "  <thead>\n",
       "    <tr style=\"text-align: right;\">\n",
       "      <th></th>\n",
       "      <th>Id</th>\n",
       "      <th>ActivityHour</th>\n",
       "      <th>Calories</th>\n",
       "    </tr>\n",
       "  </thead>\n",
       "  <tbody>\n",
       "    <tr>\n",
       "      <th>0</th>\n",
       "      <td>1503960366</td>\n",
       "      <td>4/12/2016 12:00:00 AM</td>\n",
       "      <td>81</td>\n",
       "    </tr>\n",
       "    <tr>\n",
       "      <th>1</th>\n",
       "      <td>1503960366</td>\n",
       "      <td>4/12/2016 1:00:00 AM</td>\n",
       "      <td>61</td>\n",
       "    </tr>\n",
       "    <tr>\n",
       "      <th>2</th>\n",
       "      <td>1503960366</td>\n",
       "      <td>4/12/2016 2:00:00 AM</td>\n",
       "      <td>59</td>\n",
       "    </tr>\n",
       "    <tr>\n",
       "      <th>3</th>\n",
       "      <td>1503960366</td>\n",
       "      <td>4/12/2016 3:00:00 AM</td>\n",
       "      <td>47</td>\n",
       "    </tr>\n",
       "    <tr>\n",
       "      <th>4</th>\n",
       "      <td>1503960366</td>\n",
       "      <td>4/12/2016 4:00:00 AM</td>\n",
       "      <td>48</td>\n",
       "    </tr>\n",
       "  </tbody>\n",
       "</table>\n",
       "</div>"
      ],
      "text/plain": [
       "           Id           ActivityHour  Calories\n",
       "0  1503960366  4/12/2016 12:00:00 AM        81\n",
       "1  1503960366   4/12/2016 1:00:00 AM        61\n",
       "2  1503960366   4/12/2016 2:00:00 AM        59\n",
       "3  1503960366   4/12/2016 3:00:00 AM        47\n",
       "4  1503960366   4/12/2016 4:00:00 AM        48"
      ]
     },
     "execution_count": 4,
     "metadata": {},
     "output_type": "execute_result"
    }
   ],
   "source": [
    "hourly_calories.head()\n"
   ]
  },
  {
   "cell_type": "code",
   "execution_count": 5,
   "id": "4c350b00",
   "metadata": {},
   "outputs": [
    {
     "data": {
      "text/html": [
       "<div>\n",
       "<style scoped>\n",
       "    .dataframe tbody tr th:only-of-type {\n",
       "        vertical-align: middle;\n",
       "    }\n",
       "\n",
       "    .dataframe tbody tr th {\n",
       "        vertical-align: top;\n",
       "    }\n",
       "\n",
       "    .dataframe thead th {\n",
       "        text-align: right;\n",
       "    }\n",
       "</style>\n",
       "<table border=\"1\" class=\"dataframe\">\n",
       "  <thead>\n",
       "    <tr style=\"text-align: right;\">\n",
       "      <th></th>\n",
       "      <th>Id</th>\n",
       "      <th>ActivityHour</th>\n",
       "      <th>StepTotal</th>\n",
       "    </tr>\n",
       "  </thead>\n",
       "  <tbody>\n",
       "    <tr>\n",
       "      <th>0</th>\n",
       "      <td>1503960366</td>\n",
       "      <td>4/12/2016 12:00:00 AM</td>\n",
       "      <td>373</td>\n",
       "    </tr>\n",
       "    <tr>\n",
       "      <th>1</th>\n",
       "      <td>1503960366</td>\n",
       "      <td>4/12/2016 1:00:00 AM</td>\n",
       "      <td>160</td>\n",
       "    </tr>\n",
       "    <tr>\n",
       "      <th>2</th>\n",
       "      <td>1503960366</td>\n",
       "      <td>4/12/2016 2:00:00 AM</td>\n",
       "      <td>151</td>\n",
       "    </tr>\n",
       "    <tr>\n",
       "      <th>3</th>\n",
       "      <td>1503960366</td>\n",
       "      <td>4/12/2016 3:00:00 AM</td>\n",
       "      <td>0</td>\n",
       "    </tr>\n",
       "    <tr>\n",
       "      <th>4</th>\n",
       "      <td>1503960366</td>\n",
       "      <td>4/12/2016 4:00:00 AM</td>\n",
       "      <td>0</td>\n",
       "    </tr>\n",
       "  </tbody>\n",
       "</table>\n",
       "</div>"
      ],
      "text/plain": [
       "           Id           ActivityHour  StepTotal\n",
       "0  1503960366  4/12/2016 12:00:00 AM        373\n",
       "1  1503960366   4/12/2016 1:00:00 AM        160\n",
       "2  1503960366   4/12/2016 2:00:00 AM        151\n",
       "3  1503960366   4/12/2016 3:00:00 AM          0\n",
       "4  1503960366   4/12/2016 4:00:00 AM          0"
      ]
     },
     "execution_count": 5,
     "metadata": {},
     "output_type": "execute_result"
    }
   ],
   "source": [
    "hourly_steps.head()"
   ]
  },
  {
   "cell_type": "code",
   "execution_count": 6,
   "id": "1b48ee6e",
   "metadata": {},
   "outputs": [
    {
     "data": {
      "text/html": [
       "<div>\n",
       "<style scoped>\n",
       "    .dataframe tbody tr th:only-of-type {\n",
       "        vertical-align: middle;\n",
       "    }\n",
       "\n",
       "    .dataframe tbody tr th {\n",
       "        vertical-align: top;\n",
       "    }\n",
       "\n",
       "    .dataframe thead th {\n",
       "        text-align: right;\n",
       "    }\n",
       "</style>\n",
       "<table border=\"1\" class=\"dataframe\">\n",
       "  <thead>\n",
       "    <tr style=\"text-align: right;\">\n",
       "      <th></th>\n",
       "      <th>Id</th>\n",
       "      <th>SleepDay</th>\n",
       "      <th>TotalSleepRecords</th>\n",
       "      <th>TotalMinutesAsleep</th>\n",
       "      <th>TotalTimeInBed</th>\n",
       "    </tr>\n",
       "  </thead>\n",
       "  <tbody>\n",
       "    <tr>\n",
       "      <th>0</th>\n",
       "      <td>1503960366</td>\n",
       "      <td>4/12/2016 12:00:00 AM</td>\n",
       "      <td>1</td>\n",
       "      <td>327</td>\n",
       "      <td>346</td>\n",
       "    </tr>\n",
       "    <tr>\n",
       "      <th>1</th>\n",
       "      <td>1503960366</td>\n",
       "      <td>4/13/2016 12:00:00 AM</td>\n",
       "      <td>2</td>\n",
       "      <td>384</td>\n",
       "      <td>407</td>\n",
       "    </tr>\n",
       "    <tr>\n",
       "      <th>2</th>\n",
       "      <td>1503960366</td>\n",
       "      <td>4/15/2016 12:00:00 AM</td>\n",
       "      <td>1</td>\n",
       "      <td>412</td>\n",
       "      <td>442</td>\n",
       "    </tr>\n",
       "    <tr>\n",
       "      <th>3</th>\n",
       "      <td>1503960366</td>\n",
       "      <td>4/16/2016 12:00:00 AM</td>\n",
       "      <td>2</td>\n",
       "      <td>340</td>\n",
       "      <td>367</td>\n",
       "    </tr>\n",
       "    <tr>\n",
       "      <th>4</th>\n",
       "      <td>1503960366</td>\n",
       "      <td>4/17/2016 12:00:00 AM</td>\n",
       "      <td>1</td>\n",
       "      <td>700</td>\n",
       "      <td>712</td>\n",
       "    </tr>\n",
       "  </tbody>\n",
       "</table>\n",
       "</div>"
      ],
      "text/plain": [
       "           Id               SleepDay  TotalSleepRecords  TotalMinutesAsleep  \\\n",
       "0  1503960366  4/12/2016 12:00:00 AM                  1                 327   \n",
       "1  1503960366  4/13/2016 12:00:00 AM                  2                 384   \n",
       "2  1503960366  4/15/2016 12:00:00 AM                  1                 412   \n",
       "3  1503960366  4/16/2016 12:00:00 AM                  2                 340   \n",
       "4  1503960366  4/17/2016 12:00:00 AM                  1                 700   \n",
       "\n",
       "   TotalTimeInBed  \n",
       "0             346  \n",
       "1             407  \n",
       "2             442  \n",
       "3             367  \n",
       "4             712  "
      ]
     },
     "execution_count": 6,
     "metadata": {},
     "output_type": "execute_result"
    }
   ],
   "source": [
    "sleep.head()"
   ]
  },
  {
   "cell_type": "markdown",
   "id": "87d4a881",
   "metadata": {},
   "source": [
    "Exploring do any kind duplicates recods exist "
   ]
  },
  {
   "cell_type": "code",
   "execution_count": 7,
   "id": "c252a56a",
   "metadata": {},
   "outputs": [
    {
     "name": "stdout",
     "output_type": "stream",
     "text": [
      "Daily Activity duplicates : 0\n",
      "Hourly calories duplicates : 0\n",
      "Hourly steps duplicates : 0\n",
      "sleep duplicates: 3\n"
     ]
    }
   ],
   "source": [
    "print('Daily Activity duplicates :',daily_activity.duplicated().sum())\n",
    "print('Hourly calories duplicates :',hourly_calories.duplicated().sum())\n",
    "print('Hourly steps duplicates :',hourly_steps.duplicated().sum())\n",
    "print('sleep duplicates:',sleep.duplicated().sum())\n"
   ]
  },
  {
   "cell_type": "markdown",
   "id": "4c6a0c0e",
   "metadata": {},
   "source": [
    "Removing duplicates after finding them "
   ]
  },
  {
   "cell_type": "code",
   "execution_count": 8,
   "id": "b2a00f0b",
   "metadata": {},
   "outputs": [],
   "source": [
    "sleep.drop_duplicates(inplace=True)"
   ]
  },
  {
   "cell_type": "markdown",
   "id": "389f166d",
   "metadata": {},
   "source": [
    "Looking for Null Values "
   ]
  },
  {
   "cell_type": "code",
   "execution_count": 9,
   "id": "b8fbe838",
   "metadata": {},
   "outputs": [
    {
     "data": {
      "text/plain": [
       "Id                          0\n",
       "ActivityDate                0\n",
       "TotalSteps                  0\n",
       "TotalDistance               0\n",
       "TrackerDistance             0\n",
       "LoggedActivitiesDistance    0\n",
       "VeryActiveDistance          0\n",
       "ModeratelyActiveDistance    0\n",
       "LightActiveDistance         0\n",
       "SedentaryActiveDistance     0\n",
       "VeryActiveMinutes           0\n",
       "FairlyActiveMinutes         0\n",
       "LightlyActiveMinutes        0\n",
       "SedentaryMinutes            0\n",
       "Calories                    0\n",
       "dtype: int64"
      ]
     },
     "execution_count": 9,
     "metadata": {},
     "output_type": "execute_result"
    }
   ],
   "source": [
    "daily_activity.isnull().sum()"
   ]
  },
  {
   "cell_type": "code",
   "execution_count": 10,
   "id": "bfabc8d8",
   "metadata": {},
   "outputs": [
    {
     "data": {
      "text/plain": [
       "Id              0\n",
       "ActivityHour    0\n",
       "Calories        0\n",
       "dtype: int64"
      ]
     },
     "execution_count": 10,
     "metadata": {},
     "output_type": "execute_result"
    }
   ],
   "source": [
    "hourly_calories.isnull().sum()"
   ]
  },
  {
   "cell_type": "code",
   "execution_count": 11,
   "id": "4d0aef70",
   "metadata": {},
   "outputs": [
    {
     "data": {
      "text/plain": [
       "Id              0\n",
       "ActivityHour    0\n",
       "StepTotal       0\n",
       "dtype: int64"
      ]
     },
     "execution_count": 11,
     "metadata": {},
     "output_type": "execute_result"
    }
   ],
   "source": [
    "hourly_steps.isnull().sum()"
   ]
  },
  {
   "cell_type": "code",
   "execution_count": 12,
   "id": "c4c2b1b1",
   "metadata": {},
   "outputs": [
    {
     "data": {
      "text/plain": [
       "Id                    0\n",
       "SleepDay              0\n",
       "TotalSleepRecords     0\n",
       "TotalMinutesAsleep    0\n",
       "TotalTimeInBed        0\n",
       "dtype: int64"
      ]
     },
     "execution_count": 12,
     "metadata": {},
     "output_type": "execute_result"
    }
   ],
   "source": [
    "sleep.isnull().sum()"
   ]
  },
  {
   "cell_type": "markdown",
   "id": "66c46640",
   "metadata": {},
   "source": [
    "There is not any null values <br>\n",
    "\n",
    "Looking for any kind of type conversion is needed"
   ]
  },
  {
   "cell_type": "code",
   "execution_count": 13,
   "id": "451c52f9",
   "metadata": {},
   "outputs": [
    {
     "data": {
      "text/plain": [
       "Id                            int64\n",
       "ActivityDate                 object\n",
       "TotalSteps                    int64\n",
       "TotalDistance               float64\n",
       "TrackerDistance             float64\n",
       "LoggedActivitiesDistance    float64\n",
       "VeryActiveDistance          float64\n",
       "ModeratelyActiveDistance    float64\n",
       "LightActiveDistance         float64\n",
       "SedentaryActiveDistance     float64\n",
       "VeryActiveMinutes             int64\n",
       "FairlyActiveMinutes           int64\n",
       "LightlyActiveMinutes          int64\n",
       "SedentaryMinutes              int64\n",
       "Calories                      int64\n",
       "dtype: object"
      ]
     },
     "execution_count": 13,
     "metadata": {},
     "output_type": "execute_result"
    }
   ],
   "source": [
    "daily_activity.dtypes"
   ]
  },
  {
   "cell_type": "code",
   "execution_count": 14,
   "id": "3875435f",
   "metadata": {},
   "outputs": [
    {
     "data": {
      "text/plain": [
       "Id               int64\n",
       "ActivityHour    object\n",
       "Calories         int64\n",
       "dtype: object"
      ]
     },
     "execution_count": 14,
     "metadata": {},
     "output_type": "execute_result"
    }
   ],
   "source": [
    "hourly_calories.dtypes"
   ]
  },
  {
   "cell_type": "code",
   "execution_count": 15,
   "id": "b8917590",
   "metadata": {},
   "outputs": [
    {
     "data": {
      "text/plain": [
       "Id               int64\n",
       "ActivityHour    object\n",
       "StepTotal        int64\n",
       "dtype: object"
      ]
     },
     "execution_count": 15,
     "metadata": {},
     "output_type": "execute_result"
    }
   ],
   "source": [
    "hourly_steps.dtypes"
   ]
  },
  {
   "cell_type": "code",
   "execution_count": 16,
   "id": "b9efe257",
   "metadata": {},
   "outputs": [
    {
     "data": {
      "text/plain": [
       "Id                     int64\n",
       "SleepDay              object\n",
       "TotalSleepRecords      int64\n",
       "TotalMinutesAsleep     int64\n",
       "TotalTimeInBed         int64\n",
       "dtype: object"
      ]
     },
     "execution_count": 16,
     "metadata": {},
     "output_type": "execute_result"
    }
   ],
   "source": [
    "sleep.dtypes"
   ]
  },
  {
   "cell_type": "markdown",
   "id": "bd169ea0",
   "metadata": {},
   "source": [
    "Yes, there is all date columns contains object data types which is for strings so converting them"
   ]
  },
  {
   "cell_type": "code",
   "execution_count": 17,
   "id": "dc333b95",
   "metadata": {},
   "outputs": [
    {
     "name": "stderr",
     "output_type": "stream",
     "text": [
      "C:\\Users\\TALHA COMPUTER'S\\AppData\\Local\\Temp\\ipykernel_3360\\1375702336.py:3: UserWarning: Could not infer format, so each element will be parsed individually, falling back to `dateutil`. To ensure parsing is consistent and as-expected, please specify a format.\n",
      "  hourly_calories['ActivityHour'] = pd.to_datetime(hourly_calories['ActivityHour'])\n",
      "C:\\Users\\TALHA COMPUTER'S\\AppData\\Local\\Temp\\ipykernel_3360\\1375702336.py:5: UserWarning: Could not infer format, so each element will be parsed individually, falling back to `dateutil`. To ensure parsing is consistent and as-expected, please specify a format.\n",
      "  hourly_steps['ActivityHour'] = pd.to_datetime(hourly_steps['ActivityHour'])\n",
      "C:\\Users\\TALHA COMPUTER'S\\AppData\\Local\\Temp\\ipykernel_3360\\1375702336.py:7: UserWarning: Could not infer format, so each element will be parsed individually, falling back to `dateutil`. To ensure parsing is consistent and as-expected, please specify a format.\n",
      "  sleep['SleepDay'] = pd.to_datetime(sleep['SleepDay'])\n"
     ]
    }
   ],
   "source": [
    "daily_activity['ActivityDate'] = pd.to_datetime(daily_activity['ActivityDate'])\n",
    "\n",
    "hourly_calories['ActivityHour'] = pd.to_datetime(hourly_calories['ActivityHour'])\n",
    "\n",
    "hourly_steps['ActivityHour'] = pd.to_datetime(hourly_steps['ActivityHour'])\n",
    "\n",
    "sleep['SleepDay'] = pd.to_datetime(sleep['SleepDay'])\n"
   ]
  },
  {
   "cell_type": "markdown",
   "id": "5cffd81d",
   "metadata": {},
   "source": [
    "Renaming columns so can be retrieve easily"
   ]
  },
  {
   "cell_type": "code",
   "execution_count": 18,
   "id": "0bbdee15",
   "metadata": {},
   "outputs": [],
   "source": [
    "daily_activity = daily_activity.rename(columns={'ActivityDate': 'Date'})\n",
    "\n",
    "sleep = sleep.rename(columns={'SleepDay': 'Date'})\n",
    "\n",
    "hourly_steps = hourly_steps.rename(columns={'ActivityHour' : 'Time'})\n",
    "\n",
    "hourly_calories = hourly_calories.rename(columns={'ActivityHour' : 'Time'})"
   ]
  },
  {
   "cell_type": "markdown",
   "id": "4a0a07ba",
   "metadata": {},
   "source": [
    "Adding the new colums Days of Weeks "
   ]
  },
  {
   "cell_type": "code",
   "execution_count": 19,
   "id": "0d7318a9",
   "metadata": {},
   "outputs": [],
   "source": [
    "daily_activity['DayOfTheWeek'] = daily_activity['Date'].dt.day_name()\n",
    "hourly_calories['DayOfTheWeek'] = hourly_calories['Time'].dt.day_name()"
   ]
  },
  {
   "cell_type": "code",
   "execution_count": 20,
   "id": "2ce11f3c",
   "metadata": {},
   "outputs": [
    {
     "data": {
      "text/html": [
       "<div>\n",
       "<style scoped>\n",
       "    .dataframe tbody tr th:only-of-type {\n",
       "        vertical-align: middle;\n",
       "    }\n",
       "\n",
       "    .dataframe tbody tr th {\n",
       "        vertical-align: top;\n",
       "    }\n",
       "\n",
       "    .dataframe thead th {\n",
       "        text-align: right;\n",
       "    }\n",
       "</style>\n",
       "<table border=\"1\" class=\"dataframe\">\n",
       "  <thead>\n",
       "    <tr style=\"text-align: right;\">\n",
       "      <th></th>\n",
       "      <th>Id</th>\n",
       "      <th>Date</th>\n",
       "      <th>TotalSteps</th>\n",
       "      <th>TotalDistance</th>\n",
       "      <th>TrackerDistance</th>\n",
       "      <th>LoggedActivitiesDistance</th>\n",
       "      <th>VeryActiveDistance</th>\n",
       "      <th>ModeratelyActiveDistance</th>\n",
       "      <th>LightActiveDistance</th>\n",
       "      <th>SedentaryActiveDistance</th>\n",
       "      <th>VeryActiveMinutes</th>\n",
       "      <th>FairlyActiveMinutes</th>\n",
       "      <th>LightlyActiveMinutes</th>\n",
       "      <th>SedentaryMinutes</th>\n",
       "      <th>Calories</th>\n",
       "      <th>DayOfTheWeek</th>\n",
       "    </tr>\n",
       "  </thead>\n",
       "  <tbody>\n",
       "    <tr>\n",
       "      <th>0</th>\n",
       "      <td>1503960366</td>\n",
       "      <td>2016-04-12</td>\n",
       "      <td>13162</td>\n",
       "      <td>8.50</td>\n",
       "      <td>8.50</td>\n",
       "      <td>0.0</td>\n",
       "      <td>1.88</td>\n",
       "      <td>0.55</td>\n",
       "      <td>6.06</td>\n",
       "      <td>0.0</td>\n",
       "      <td>25</td>\n",
       "      <td>13</td>\n",
       "      <td>328</td>\n",
       "      <td>728</td>\n",
       "      <td>1985</td>\n",
       "      <td>Tuesday</td>\n",
       "    </tr>\n",
       "    <tr>\n",
       "      <th>1</th>\n",
       "      <td>1503960366</td>\n",
       "      <td>2016-04-13</td>\n",
       "      <td>10735</td>\n",
       "      <td>6.97</td>\n",
       "      <td>6.97</td>\n",
       "      <td>0.0</td>\n",
       "      <td>1.57</td>\n",
       "      <td>0.69</td>\n",
       "      <td>4.71</td>\n",
       "      <td>0.0</td>\n",
       "      <td>21</td>\n",
       "      <td>19</td>\n",
       "      <td>217</td>\n",
       "      <td>776</td>\n",
       "      <td>1797</td>\n",
       "      <td>Wednesday</td>\n",
       "    </tr>\n",
       "    <tr>\n",
       "      <th>2</th>\n",
       "      <td>1503960366</td>\n",
       "      <td>2016-04-14</td>\n",
       "      <td>10460</td>\n",
       "      <td>6.74</td>\n",
       "      <td>6.74</td>\n",
       "      <td>0.0</td>\n",
       "      <td>2.44</td>\n",
       "      <td>0.40</td>\n",
       "      <td>3.91</td>\n",
       "      <td>0.0</td>\n",
       "      <td>30</td>\n",
       "      <td>11</td>\n",
       "      <td>181</td>\n",
       "      <td>1218</td>\n",
       "      <td>1776</td>\n",
       "      <td>Thursday</td>\n",
       "    </tr>\n",
       "    <tr>\n",
       "      <th>3</th>\n",
       "      <td>1503960366</td>\n",
       "      <td>2016-04-15</td>\n",
       "      <td>9762</td>\n",
       "      <td>6.28</td>\n",
       "      <td>6.28</td>\n",
       "      <td>0.0</td>\n",
       "      <td>2.14</td>\n",
       "      <td>1.26</td>\n",
       "      <td>2.83</td>\n",
       "      <td>0.0</td>\n",
       "      <td>29</td>\n",
       "      <td>34</td>\n",
       "      <td>209</td>\n",
       "      <td>726</td>\n",
       "      <td>1745</td>\n",
       "      <td>Friday</td>\n",
       "    </tr>\n",
       "    <tr>\n",
       "      <th>4</th>\n",
       "      <td>1503960366</td>\n",
       "      <td>2016-04-16</td>\n",
       "      <td>12669</td>\n",
       "      <td>8.16</td>\n",
       "      <td>8.16</td>\n",
       "      <td>0.0</td>\n",
       "      <td>2.71</td>\n",
       "      <td>0.41</td>\n",
       "      <td>5.04</td>\n",
       "      <td>0.0</td>\n",
       "      <td>36</td>\n",
       "      <td>10</td>\n",
       "      <td>221</td>\n",
       "      <td>773</td>\n",
       "      <td>1863</td>\n",
       "      <td>Saturday</td>\n",
       "    </tr>\n",
       "  </tbody>\n",
       "</table>\n",
       "</div>"
      ],
      "text/plain": [
       "           Id       Date  TotalSteps  TotalDistance  TrackerDistance  \\\n",
       "0  1503960366 2016-04-12       13162           8.50             8.50   \n",
       "1  1503960366 2016-04-13       10735           6.97             6.97   \n",
       "2  1503960366 2016-04-14       10460           6.74             6.74   \n",
       "3  1503960366 2016-04-15        9762           6.28             6.28   \n",
       "4  1503960366 2016-04-16       12669           8.16             8.16   \n",
       "\n",
       "   LoggedActivitiesDistance  VeryActiveDistance  ModeratelyActiveDistance  \\\n",
       "0                       0.0                1.88                      0.55   \n",
       "1                       0.0                1.57                      0.69   \n",
       "2                       0.0                2.44                      0.40   \n",
       "3                       0.0                2.14                      1.26   \n",
       "4                       0.0                2.71                      0.41   \n",
       "\n",
       "   LightActiveDistance  SedentaryActiveDistance  VeryActiveMinutes  \\\n",
       "0                 6.06                      0.0                 25   \n",
       "1                 4.71                      0.0                 21   \n",
       "2                 3.91                      0.0                 30   \n",
       "3                 2.83                      0.0                 29   \n",
       "4                 5.04                      0.0                 36   \n",
       "\n",
       "   FairlyActiveMinutes  LightlyActiveMinutes  SedentaryMinutes  Calories  \\\n",
       "0                   13                   328               728      1985   \n",
       "1                   19                   217               776      1797   \n",
       "2                   11                   181              1218      1776   \n",
       "3                   34                   209               726      1745   \n",
       "4                   10                   221               773      1863   \n",
       "\n",
       "  DayOfTheWeek  \n",
       "0      Tuesday  \n",
       "1    Wednesday  \n",
       "2     Thursday  \n",
       "3       Friday  \n",
       "4     Saturday  "
      ]
     },
     "execution_count": 20,
     "metadata": {},
     "output_type": "execute_result"
    }
   ],
   "source": [
    "daily_activity.head()"
   ]
  },
  {
   "cell_type": "markdown",
   "id": "a1a7637c",
   "metadata": {},
   "source": [
    "Merging daily_activity and sleep datasets\n"
   ]
  },
  {
   "cell_type": "code",
   "execution_count": 21,
   "id": "f2c6734b",
   "metadata": {},
   "outputs": [],
   "source": [
    "data_merged = pd.merge(daily_activity, sleep, on='Date')\n"
   ]
  },
  {
   "cell_type": "markdown",
   "id": "da59d03a",
   "metadata": {},
   "source": [
    "Renaming certain columns for readability\n"
   ]
  },
  {
   "cell_type": "code",
   "execution_count": 22,
   "id": "c3799cb9",
   "metadata": {},
   "outputs": [
    {
     "data": {
      "text/html": [
       "<div>\n",
       "<style scoped>\n",
       "    .dataframe tbody tr th:only-of-type {\n",
       "        vertical-align: middle;\n",
       "    }\n",
       "\n",
       "    .dataframe tbody tr th {\n",
       "        vertical-align: top;\n",
       "    }\n",
       "\n",
       "    .dataframe thead th {\n",
       "        text-align: right;\n",
       "    }\n",
       "</style>\n",
       "<table border=\"1\" class=\"dataframe\">\n",
       "  <thead>\n",
       "    <tr style=\"text-align: right;\">\n",
       "      <th></th>\n",
       "      <th>Id_Activity</th>\n",
       "      <th>Date</th>\n",
       "      <th>TotalSteps</th>\n",
       "      <th>TotalDistance</th>\n",
       "      <th>TrackerDistance</th>\n",
       "      <th>LoggedActivitiesDistance</th>\n",
       "      <th>VeryActiveDistance</th>\n",
       "      <th>ModeratelyActiveDistance</th>\n",
       "      <th>LightActiveDistance</th>\n",
       "      <th>SedentaryActiveDistance</th>\n",
       "      <th>VeryActiveMinutes</th>\n",
       "      <th>FairlyActiveMinutes</th>\n",
       "      <th>LightlyActiveMinutes</th>\n",
       "      <th>SedentaryMinutes</th>\n",
       "      <th>Calories</th>\n",
       "      <th>DayOfTheWeek</th>\n",
       "      <th>Id_Sleep</th>\n",
       "      <th>TotalSleepRecords</th>\n",
       "      <th>TotalMinutesAsleep</th>\n",
       "      <th>TotalTimeInBed</th>\n",
       "    </tr>\n",
       "  </thead>\n",
       "  <tbody>\n",
       "    <tr>\n",
       "      <th>0</th>\n",
       "      <td>1503960366</td>\n",
       "      <td>2016-04-12</td>\n",
       "      <td>13162</td>\n",
       "      <td>8.5</td>\n",
       "      <td>8.5</td>\n",
       "      <td>0.0</td>\n",
       "      <td>1.88</td>\n",
       "      <td>0.55</td>\n",
       "      <td>6.06</td>\n",
       "      <td>0.0</td>\n",
       "      <td>25</td>\n",
       "      <td>13</td>\n",
       "      <td>328</td>\n",
       "      <td>728</td>\n",
       "      <td>1985</td>\n",
       "      <td>Tuesday</td>\n",
       "      <td>1503960366</td>\n",
       "      <td>1</td>\n",
       "      <td>327</td>\n",
       "      <td>346</td>\n",
       "    </tr>\n",
       "    <tr>\n",
       "      <th>1</th>\n",
       "      <td>1503960366</td>\n",
       "      <td>2016-04-12</td>\n",
       "      <td>13162</td>\n",
       "      <td>8.5</td>\n",
       "      <td>8.5</td>\n",
       "      <td>0.0</td>\n",
       "      <td>1.88</td>\n",
       "      <td>0.55</td>\n",
       "      <td>6.06</td>\n",
       "      <td>0.0</td>\n",
       "      <td>25</td>\n",
       "      <td>13</td>\n",
       "      <td>328</td>\n",
       "      <td>728</td>\n",
       "      <td>1985</td>\n",
       "      <td>Tuesday</td>\n",
       "      <td>1927972279</td>\n",
       "      <td>3</td>\n",
       "      <td>750</td>\n",
       "      <td>775</td>\n",
       "    </tr>\n",
       "    <tr>\n",
       "      <th>2</th>\n",
       "      <td>1503960366</td>\n",
       "      <td>2016-04-12</td>\n",
       "      <td>13162</td>\n",
       "      <td>8.5</td>\n",
       "      <td>8.5</td>\n",
       "      <td>0.0</td>\n",
       "      <td>1.88</td>\n",
       "      <td>0.55</td>\n",
       "      <td>6.06</td>\n",
       "      <td>0.0</td>\n",
       "      <td>25</td>\n",
       "      <td>13</td>\n",
       "      <td>328</td>\n",
       "      <td>728</td>\n",
       "      <td>1985</td>\n",
       "      <td>Tuesday</td>\n",
       "      <td>2026352035</td>\n",
       "      <td>1</td>\n",
       "      <td>503</td>\n",
       "      <td>546</td>\n",
       "    </tr>\n",
       "    <tr>\n",
       "      <th>3</th>\n",
       "      <td>1503960366</td>\n",
       "      <td>2016-04-12</td>\n",
       "      <td>13162</td>\n",
       "      <td>8.5</td>\n",
       "      <td>8.5</td>\n",
       "      <td>0.0</td>\n",
       "      <td>1.88</td>\n",
       "      <td>0.55</td>\n",
       "      <td>6.06</td>\n",
       "      <td>0.0</td>\n",
       "      <td>25</td>\n",
       "      <td>13</td>\n",
       "      <td>328</td>\n",
       "      <td>728</td>\n",
       "      <td>1985</td>\n",
       "      <td>Tuesday</td>\n",
       "      <td>3977333714</td>\n",
       "      <td>1</td>\n",
       "      <td>274</td>\n",
       "      <td>469</td>\n",
       "    </tr>\n",
       "    <tr>\n",
       "      <th>4</th>\n",
       "      <td>1503960366</td>\n",
       "      <td>2016-04-12</td>\n",
       "      <td>13162</td>\n",
       "      <td>8.5</td>\n",
       "      <td>8.5</td>\n",
       "      <td>0.0</td>\n",
       "      <td>1.88</td>\n",
       "      <td>0.55</td>\n",
       "      <td>6.06</td>\n",
       "      <td>0.0</td>\n",
       "      <td>25</td>\n",
       "      <td>13</td>\n",
       "      <td>328</td>\n",
       "      <td>728</td>\n",
       "      <td>1985</td>\n",
       "      <td>Tuesday</td>\n",
       "      <td>4020332650</td>\n",
       "      <td>1</td>\n",
       "      <td>501</td>\n",
       "      <td>541</td>\n",
       "    </tr>\n",
       "  </tbody>\n",
       "</table>\n",
       "</div>"
      ],
      "text/plain": [
       "   Id_Activity       Date  TotalSteps  TotalDistance  TrackerDistance  \\\n",
       "0   1503960366 2016-04-12       13162            8.5              8.5   \n",
       "1   1503960366 2016-04-12       13162            8.5              8.5   \n",
       "2   1503960366 2016-04-12       13162            8.5              8.5   \n",
       "3   1503960366 2016-04-12       13162            8.5              8.5   \n",
       "4   1503960366 2016-04-12       13162            8.5              8.5   \n",
       "\n",
       "   LoggedActivitiesDistance  VeryActiveDistance  ModeratelyActiveDistance  \\\n",
       "0                       0.0                1.88                      0.55   \n",
       "1                       0.0                1.88                      0.55   \n",
       "2                       0.0                1.88                      0.55   \n",
       "3                       0.0                1.88                      0.55   \n",
       "4                       0.0                1.88                      0.55   \n",
       "\n",
       "   LightActiveDistance  SedentaryActiveDistance  VeryActiveMinutes  \\\n",
       "0                 6.06                      0.0                 25   \n",
       "1                 6.06                      0.0                 25   \n",
       "2                 6.06                      0.0                 25   \n",
       "3                 6.06                      0.0                 25   \n",
       "4                 6.06                      0.0                 25   \n",
       "\n",
       "   FairlyActiveMinutes  LightlyActiveMinutes  SedentaryMinutes  Calories  \\\n",
       "0                   13                   328               728      1985   \n",
       "1                   13                   328               728      1985   \n",
       "2                   13                   328               728      1985   \n",
       "3                   13                   328               728      1985   \n",
       "4                   13                   328               728      1985   \n",
       "\n",
       "  DayOfTheWeek    Id_Sleep  TotalSleepRecords  TotalMinutesAsleep  \\\n",
       "0      Tuesday  1503960366                  1                 327   \n",
       "1      Tuesday  1927972279                  3                 750   \n",
       "2      Tuesday  2026352035                  1                 503   \n",
       "3      Tuesday  3977333714                  1                 274   \n",
       "4      Tuesday  4020332650                  1                 501   \n",
       "\n",
       "   TotalTimeInBed  \n",
       "0             346  \n",
       "1             775  \n",
       "2             546  \n",
       "3             469  \n",
       "4             541  "
      ]
     },
     "execution_count": 22,
     "metadata": {},
     "output_type": "execute_result"
    }
   ],
   "source": [
    "\n",
    "data_merged = data_merged.rename(columns={'Id_x' : 'Id_Activity'})\n",
    "data_merged = data_merged.rename(columns={'Id_y' : 'Id_Sleep'})\n",
    "data_merged.head()"
   ]
  },
  {
   "cell_type": "markdown",
   "id": "c98e19c8",
   "metadata": {},
   "source": [
    "Merging hourly_steps and hourly_calories datasets\n"
   ]
  },
  {
   "cell_type": "code",
   "execution_count": 23,
   "id": "42598c2d",
   "metadata": {},
   "outputs": [
    {
     "data": {
      "text/html": [
       "<div>\n",
       "<style scoped>\n",
       "    .dataframe tbody tr th:only-of-type {\n",
       "        vertical-align: middle;\n",
       "    }\n",
       "\n",
       "    .dataframe tbody tr th {\n",
       "        vertical-align: top;\n",
       "    }\n",
       "\n",
       "    .dataframe thead th {\n",
       "        text-align: right;\n",
       "    }\n",
       "</style>\n",
       "<table border=\"1\" class=\"dataframe\">\n",
       "  <thead>\n",
       "    <tr style=\"text-align: right;\">\n",
       "      <th></th>\n",
       "      <th>Id</th>\n",
       "      <th>Time</th>\n",
       "      <th>StepTotal</th>\n",
       "      <th>Calories</th>\n",
       "      <th>DayOfTheWeek</th>\n",
       "    </tr>\n",
       "  </thead>\n",
       "  <tbody>\n",
       "    <tr>\n",
       "      <th>0</th>\n",
       "      <td>1503960366</td>\n",
       "      <td>2016-04-12 00:00:00</td>\n",
       "      <td>373</td>\n",
       "      <td>81</td>\n",
       "      <td>Tuesday</td>\n",
       "    </tr>\n",
       "    <tr>\n",
       "      <th>1</th>\n",
       "      <td>1503960366</td>\n",
       "      <td>2016-04-12 01:00:00</td>\n",
       "      <td>160</td>\n",
       "      <td>61</td>\n",
       "      <td>Tuesday</td>\n",
       "    </tr>\n",
       "    <tr>\n",
       "      <th>2</th>\n",
       "      <td>1503960366</td>\n",
       "      <td>2016-04-12 02:00:00</td>\n",
       "      <td>151</td>\n",
       "      <td>59</td>\n",
       "      <td>Tuesday</td>\n",
       "    </tr>\n",
       "    <tr>\n",
       "      <th>3</th>\n",
       "      <td>1503960366</td>\n",
       "      <td>2016-04-12 03:00:00</td>\n",
       "      <td>0</td>\n",
       "      <td>47</td>\n",
       "      <td>Tuesday</td>\n",
       "    </tr>\n",
       "    <tr>\n",
       "      <th>4</th>\n",
       "      <td>1503960366</td>\n",
       "      <td>2016-04-12 04:00:00</td>\n",
       "      <td>0</td>\n",
       "      <td>48</td>\n",
       "      <td>Tuesday</td>\n",
       "    </tr>\n",
       "  </tbody>\n",
       "</table>\n",
       "</div>"
      ],
      "text/plain": [
       "           Id                Time  StepTotal  Calories DayOfTheWeek\n",
       "0  1503960366 2016-04-12 00:00:00        373        81      Tuesday\n",
       "1  1503960366 2016-04-12 01:00:00        160        61      Tuesday\n",
       "2  1503960366 2016-04-12 02:00:00        151        59      Tuesday\n",
       "3  1503960366 2016-04-12 03:00:00          0        47      Tuesday\n",
       "4  1503960366 2016-04-12 04:00:00          0        48      Tuesday"
      ]
     },
     "execution_count": 23,
     "metadata": {},
     "output_type": "execute_result"
    }
   ],
   "source": [
    "hourly_merged = pd.merge(hourly_steps, hourly_calories, on=['Time', 'Id'])\n",
    "hourly_merged.head()"
   ]
  },
  {
   "cell_type": "markdown",
   "id": "42d48413",
   "metadata": {},
   "source": [
    "### Data Cleaning Decisions\n",
    "\n",
    "Rather than using generic IQR-based outlier removal, I opted for a domain-specific, context-aware cleaning approach. Health and fitness data naturally includes a wide range of values due to differences in activity levels, habits, and body types. Here's a breakdown of the cleaning logic:\n",
    "\n"
   ]
  },
  {
   "cell_type": "code",
   "execution_count": 24,
   "id": "1b7fbeb2",
   "metadata": {},
   "outputs": [
    {
     "data": {
      "text/html": [
       "<div>\n",
       "<style scoped>\n",
       "    .dataframe tbody tr th:only-of-type {\n",
       "        vertical-align: middle;\n",
       "    }\n",
       "\n",
       "    .dataframe tbody tr th {\n",
       "        vertical-align: top;\n",
       "    }\n",
       "\n",
       "    .dataframe thead th {\n",
       "        text-align: right;\n",
       "    }\n",
       "</style>\n",
       "<table border=\"1\" class=\"dataframe\">\n",
       "  <thead>\n",
       "    <tr style=\"text-align: right;\">\n",
       "      <th></th>\n",
       "      <th>Id_Activity</th>\n",
       "      <th>Date</th>\n",
       "      <th>TotalSteps</th>\n",
       "      <th>TotalDistance</th>\n",
       "      <th>TrackerDistance</th>\n",
       "      <th>LoggedActivitiesDistance</th>\n",
       "      <th>VeryActiveDistance</th>\n",
       "      <th>ModeratelyActiveDistance</th>\n",
       "      <th>LightActiveDistance</th>\n",
       "      <th>SedentaryActiveDistance</th>\n",
       "      <th>VeryActiveMinutes</th>\n",
       "      <th>FairlyActiveMinutes</th>\n",
       "      <th>LightlyActiveMinutes</th>\n",
       "      <th>SedentaryMinutes</th>\n",
       "      <th>Calories</th>\n",
       "      <th>Id_Sleep</th>\n",
       "      <th>TotalSleepRecords</th>\n",
       "      <th>TotalMinutesAsleep</th>\n",
       "      <th>TotalTimeInBed</th>\n",
       "    </tr>\n",
       "  </thead>\n",
       "  <tbody>\n",
       "    <tr>\n",
       "      <th>count</th>\n",
       "      <td>1.253500e+04</td>\n",
       "      <td>12535</td>\n",
       "      <td>12535.000000</td>\n",
       "      <td>12535.000000</td>\n",
       "      <td>12535.000000</td>\n",
       "      <td>12535.000000</td>\n",
       "      <td>12535.000000</td>\n",
       "      <td>12535.000000</td>\n",
       "      <td>12535.000000</td>\n",
       "      <td>12535.000000</td>\n",
       "      <td>12535.000000</td>\n",
       "      <td>12535.000000</td>\n",
       "      <td>12535.000000</td>\n",
       "      <td>12535.000000</td>\n",
       "      <td>12535.000000</td>\n",
       "      <td>1.253500e+04</td>\n",
       "      <td>12535.000000</td>\n",
       "      <td>12535.000000</td>\n",
       "      <td>12535.000000</td>\n",
       "    </tr>\n",
       "    <tr>\n",
       "      <th>mean</th>\n",
       "      <td>4.860527e+09</td>\n",
       "      <td>2016-04-25 20:40:27.379337984</td>\n",
       "      <td>7675.418508</td>\n",
       "      <td>5.515836</td>\n",
       "      <td>5.501560</td>\n",
       "      <td>0.104923</td>\n",
       "      <td>1.507678</td>\n",
       "      <td>0.569856</td>\n",
       "      <td>3.360278</td>\n",
       "      <td>0.001580</td>\n",
       "      <td>21.247228</td>\n",
       "      <td>13.661268</td>\n",
       "      <td>194.200718</td>\n",
       "      <td>992.671400</td>\n",
       "      <td>2315.240686</td>\n",
       "      <td>4.993099e+09</td>\n",
       "      <td>1.122537</td>\n",
       "      <td>419.036378</td>\n",
       "      <td>458.476426</td>\n",
       "    </tr>\n",
       "    <tr>\n",
       "      <th>min</th>\n",
       "      <td>1.503960e+09</td>\n",
       "      <td>2016-04-12 00:00:00</td>\n",
       "      <td>0.000000</td>\n",
       "      <td>0.000000</td>\n",
       "      <td>0.000000</td>\n",
       "      <td>0.000000</td>\n",
       "      <td>0.000000</td>\n",
       "      <td>0.000000</td>\n",
       "      <td>0.000000</td>\n",
       "      <td>0.000000</td>\n",
       "      <td>0.000000</td>\n",
       "      <td>0.000000</td>\n",
       "      <td>0.000000</td>\n",
       "      <td>0.000000</td>\n",
       "      <td>0.000000</td>\n",
       "      <td>1.503960e+09</td>\n",
       "      <td>1.000000</td>\n",
       "      <td>58.000000</td>\n",
       "      <td>61.000000</td>\n",
       "    </tr>\n",
       "    <tr>\n",
       "      <th>25%</th>\n",
       "      <td>2.320127e+09</td>\n",
       "      <td>2016-04-19 00:00:00</td>\n",
       "      <td>3821.000000</td>\n",
       "      <td>2.630000</td>\n",
       "      <td>2.630000</td>\n",
       "      <td>0.000000</td>\n",
       "      <td>0.000000</td>\n",
       "      <td>0.000000</td>\n",
       "      <td>1.960000</td>\n",
       "      <td>0.000000</td>\n",
       "      <td>0.000000</td>\n",
       "      <td>0.000000</td>\n",
       "      <td>129.000000</td>\n",
       "      <td>730.000000</td>\n",
       "      <td>1838.000000</td>\n",
       "      <td>3.977334e+09</td>\n",
       "      <td>1.000000</td>\n",
       "      <td>361.000000</td>\n",
       "      <td>403.000000</td>\n",
       "    </tr>\n",
       "    <tr>\n",
       "      <th>50%</th>\n",
       "      <td>4.445115e+09</td>\n",
       "      <td>2016-04-26 00:00:00</td>\n",
       "      <td>7412.000000</td>\n",
       "      <td>5.260000</td>\n",
       "      <td>5.260000</td>\n",
       "      <td>0.000000</td>\n",
       "      <td>0.210000</td>\n",
       "      <td>0.240000</td>\n",
       "      <td>3.380000</td>\n",
       "      <td>0.000000</td>\n",
       "      <td>4.000000</td>\n",
       "      <td>7.000000</td>\n",
       "      <td>199.000000</td>\n",
       "      <td>1057.000000</td>\n",
       "      <td>2150.000000</td>\n",
       "      <td>4.702922e+09</td>\n",
       "      <td>1.000000</td>\n",
       "      <td>432.000000</td>\n",
       "      <td>463.000000</td>\n",
       "    </tr>\n",
       "    <tr>\n",
       "      <th>75%</th>\n",
       "      <td>6.962181e+09</td>\n",
       "      <td>2016-05-03 00:00:00</td>\n",
       "      <td>10735.000000</td>\n",
       "      <td>7.720000</td>\n",
       "      <td>7.720000</td>\n",
       "      <td>0.000000</td>\n",
       "      <td>2.040000</td>\n",
       "      <td>0.810000</td>\n",
       "      <td>4.790000</td>\n",
       "      <td>0.000000</td>\n",
       "      <td>32.000000</td>\n",
       "      <td>20.000000</td>\n",
       "      <td>266.000000</td>\n",
       "      <td>1229.000000</td>\n",
       "      <td>2796.000000</td>\n",
       "      <td>6.962181e+09</td>\n",
       "      <td>1.000000</td>\n",
       "      <td>490.000000</td>\n",
       "      <td>526.000000</td>\n",
       "    </tr>\n",
       "    <tr>\n",
       "      <th>max</th>\n",
       "      <td>8.877689e+09</td>\n",
       "      <td>2016-05-12 00:00:00</td>\n",
       "      <td>36019.000000</td>\n",
       "      <td>28.030001</td>\n",
       "      <td>28.030001</td>\n",
       "      <td>4.942142</td>\n",
       "      <td>21.920000</td>\n",
       "      <td>6.480000</td>\n",
       "      <td>10.710000</td>\n",
       "      <td>0.110000</td>\n",
       "      <td>210.000000</td>\n",
       "      <td>143.000000</td>\n",
       "      <td>518.000000</td>\n",
       "      <td>1440.000000</td>\n",
       "      <td>4900.000000</td>\n",
       "      <td>8.792010e+09</td>\n",
       "      <td>3.000000</td>\n",
       "      <td>796.000000</td>\n",
       "      <td>961.000000</td>\n",
       "    </tr>\n",
       "    <tr>\n",
       "      <th>std</th>\n",
       "      <td>2.422591e+09</td>\n",
       "      <td>NaN</td>\n",
       "      <td>5105.691933</td>\n",
       "      <td>3.943080</td>\n",
       "      <td>3.926104</td>\n",
       "      <td>0.612548</td>\n",
       "      <td>2.688387</td>\n",
       "      <td>0.882933</td>\n",
       "      <td>2.043436</td>\n",
       "      <td>0.007277</td>\n",
       "      <td>33.112962</td>\n",
       "      <td>20.043398</td>\n",
       "      <td>109.012525</td>\n",
       "      <td>298.018416</td>\n",
       "      <td>710.082043</td>\n",
       "      <td>2.062602e+09</td>\n",
       "      <td>0.350952</td>\n",
       "      <td>118.796229</td>\n",
       "      <td>127.690775</td>\n",
       "    </tr>\n",
       "  </tbody>\n",
       "</table>\n",
       "</div>"
      ],
      "text/plain": [
       "        Id_Activity                           Date    TotalSteps  \\\n",
       "count  1.253500e+04                          12535  12535.000000   \n",
       "mean   4.860527e+09  2016-04-25 20:40:27.379337984   7675.418508   \n",
       "min    1.503960e+09            2016-04-12 00:00:00      0.000000   \n",
       "25%    2.320127e+09            2016-04-19 00:00:00   3821.000000   \n",
       "50%    4.445115e+09            2016-04-26 00:00:00   7412.000000   \n",
       "75%    6.962181e+09            2016-05-03 00:00:00  10735.000000   \n",
       "max    8.877689e+09            2016-05-12 00:00:00  36019.000000   \n",
       "std    2.422591e+09                            NaN   5105.691933   \n",
       "\n",
       "       TotalDistance  TrackerDistance  LoggedActivitiesDistance  \\\n",
       "count   12535.000000     12535.000000              12535.000000   \n",
       "mean        5.515836         5.501560                  0.104923   \n",
       "min         0.000000         0.000000                  0.000000   \n",
       "25%         2.630000         2.630000                  0.000000   \n",
       "50%         5.260000         5.260000                  0.000000   \n",
       "75%         7.720000         7.720000                  0.000000   \n",
       "max        28.030001        28.030001                  4.942142   \n",
       "std         3.943080         3.926104                  0.612548   \n",
       "\n",
       "       VeryActiveDistance  ModeratelyActiveDistance  LightActiveDistance  \\\n",
       "count        12535.000000              12535.000000         12535.000000   \n",
       "mean             1.507678                  0.569856             3.360278   \n",
       "min              0.000000                  0.000000             0.000000   \n",
       "25%              0.000000                  0.000000             1.960000   \n",
       "50%              0.210000                  0.240000             3.380000   \n",
       "75%              2.040000                  0.810000             4.790000   \n",
       "max             21.920000                  6.480000            10.710000   \n",
       "std              2.688387                  0.882933             2.043436   \n",
       "\n",
       "       SedentaryActiveDistance  VeryActiveMinutes  FairlyActiveMinutes  \\\n",
       "count             12535.000000       12535.000000         12535.000000   \n",
       "mean                  0.001580          21.247228            13.661268   \n",
       "min                   0.000000           0.000000             0.000000   \n",
       "25%                   0.000000           0.000000             0.000000   \n",
       "50%                   0.000000           4.000000             7.000000   \n",
       "75%                   0.000000          32.000000            20.000000   \n",
       "max                   0.110000         210.000000           143.000000   \n",
       "std                   0.007277          33.112962            20.043398   \n",
       "\n",
       "       LightlyActiveMinutes  SedentaryMinutes      Calories      Id_Sleep  \\\n",
       "count          12535.000000      12535.000000  12535.000000  1.253500e+04   \n",
       "mean             194.200718        992.671400   2315.240686  4.993099e+09   \n",
       "min                0.000000          0.000000      0.000000  1.503960e+09   \n",
       "25%              129.000000        730.000000   1838.000000  3.977334e+09   \n",
       "50%              199.000000       1057.000000   2150.000000  4.702922e+09   \n",
       "75%              266.000000       1229.000000   2796.000000  6.962181e+09   \n",
       "max              518.000000       1440.000000   4900.000000  8.792010e+09   \n",
       "std              109.012525        298.018416    710.082043  2.062602e+09   \n",
       "\n",
       "       TotalSleepRecords  TotalMinutesAsleep  TotalTimeInBed  \n",
       "count       12535.000000        12535.000000    12535.000000  \n",
       "mean            1.122537          419.036378      458.476426  \n",
       "min             1.000000           58.000000       61.000000  \n",
       "25%             1.000000          361.000000      403.000000  \n",
       "50%             1.000000          432.000000      463.000000  \n",
       "75%             1.000000          490.000000      526.000000  \n",
       "max             3.000000          796.000000      961.000000  \n",
       "std             0.350952          118.796229      127.690775  "
      ]
     },
     "execution_count": 24,
     "metadata": {},
     "output_type": "execute_result"
    }
   ],
   "source": [
    "data_merged.describe()"
   ]
  },
  {
   "cell_type": "markdown",
   "id": "e189105a",
   "metadata": {},
   "source": [
    "\n",
    "#### 1. Removed Rows with `Calories = 0`\n",
    "Even if a user is completely inactive, the human body still burns calories through its basal metabolic rate. Therefore, zero calories burned is considered an invalid value and likely due to missing or incorrect tracking."
   ]
  },
  {
   "cell_type": "code",
   "execution_count": 25,
   "id": "96113902",
   "metadata": {},
   "outputs": [],
   "source": [
    "data_merged = data_merged[data_merged['Calories'] > 0]\n",
    "hourly_merged = hourly_merged[hourly_merged['Calories'] > 0]\n"
   ]
  },
  {
   "cell_type": "markdown",
   "id": "bda9b6f9",
   "metadata": {},
   "source": [
    "####  2. Removed Rows with `TotalSteps = 0`\n",
    "A full day with zero steps is extremely unlikely unless the device was not worn. These rows were removed to ensure valid activity data.\n"
   ]
  },
  {
   "cell_type": "code",
   "execution_count": 26,
   "id": "996989a2",
   "metadata": {},
   "outputs": [],
   "source": [
    "data_merged = data_merged[data_merged['TotalSteps'] > 0]\n",
    "hourly_merged = hourly_merged[hourly_merged['StepTotal'] > 0]"
   ]
  },
  {
   "cell_type": "markdown",
   "id": "80520c26",
   "metadata": {},
   "source": [
    "#### 3. Removed Rows with Logical Inconsistency\n",
    "Some rows reported zero steps but non-zero `VeryActiveMinutes`. It's logically impossible to be \"very active\" without any recorded steps, so these entries were removed as invalid.\n"
   ]
  },
  {
   "cell_type": "code",
   "execution_count": 27,
   "id": "49e2fd34",
   "metadata": {},
   "outputs": [],
   "source": [
    "df_cleaned = data_merged[~((data_merged['TotalSteps'] == 0) & (data_merged['VeryActiveMinutes'] > 0))]"
   ]
  },
  {
   "cell_type": "markdown",
   "id": "ef44e50d",
   "metadata": {},
   "source": [
    "#### 4.Removed Extremely High `TotalSteps (> 30,000)`\n",
    "While active individuals might reach 20,000–25,000 steps, values above 30,000 are rare and often result from device misrecording or anomalies. These were trimmed for realistic modeling.\n"
   ]
  },
  {
   "cell_type": "code",
   "execution_count": 28,
   "id": "0f8c8711",
   "metadata": {},
   "outputs": [],
   "source": [
    "data_merged = data_merged[data_merged['TotalSteps'] <= 30000]\n",
    "hourly_merged = hourly_merged[hourly_merged['StepTotal'] < 30000]\n"
   ]
  },
  {
   "cell_type": "markdown",
   "id": "d80f98d2",
   "metadata": {},
   "source": [
    "#### 5.Removed Extremely High `Calories (> 5000)`\n",
    "Burning more than 5,000 calories in a day is possible but extremely rare, even for athletes. Such high values are considered outliers and likely due to recording errors.\n"
   ]
  },
  {
   "cell_type": "code",
   "execution_count": 29,
   "id": "db6c71ad",
   "metadata": {},
   "outputs": [],
   "source": [
    "data_merged = data_merged[data_merged['Calories'] < 5000]\n",
    "hourly_merged = hourly_merged[hourly_merged['Calories'] < 5000]\n"
   ]
  },
  {
   "cell_type": "markdown",
   "id": "02b262c8",
   "metadata": {},
   "source": [
    "## Analyze Phase\n",
    "\n",
    "In this phase, I explored the cleaned dataset to identify trends, patterns, and relationships in user activity, sleep, and calories. The aim is to answer key questions about how Bellabeat users behave and how that can guide product insights.\n"
   ]
  },
  {
   "cell_type": "markdown",
   "id": "8c63947c",
   "metadata": {},
   "source": [
    "#### Analyzing min max and average calories they burn and steps they take daily"
   ]
  },
  {
   "cell_type": "code",
   "execution_count": 30,
   "id": "c8fab7cd",
   "metadata": {},
   "outputs": [
    {
     "data": {
      "text/html": [
       "<div>\n",
       "<style scoped>\n",
       "    .dataframe tbody tr th:only-of-type {\n",
       "        vertical-align: middle;\n",
       "    }\n",
       "\n",
       "    .dataframe tbody tr th {\n",
       "        vertical-align: top;\n",
       "    }\n",
       "\n",
       "    .dataframe thead th {\n",
       "        text-align: right;\n",
       "    }\n",
       "</style>\n",
       "<table border=\"1\" class=\"dataframe\">\n",
       "  <thead>\n",
       "    <tr style=\"text-align: right;\">\n",
       "      <th></th>\n",
       "      <th>Calories</th>\n",
       "      <th>TotalSteps</th>\n",
       "    </tr>\n",
       "  </thead>\n",
       "  <tbody>\n",
       "    <tr>\n",
       "      <th>mean</th>\n",
       "      <td>2368.991921</td>\n",
       "      <td>8308.14586</td>\n",
       "    </tr>\n",
       "    <tr>\n",
       "      <th>min</th>\n",
       "      <td>52.000000</td>\n",
       "      <td>4.00000</td>\n",
       "    </tr>\n",
       "    <tr>\n",
       "      <th>max</th>\n",
       "      <td>4900.000000</td>\n",
       "      <td>29326.00000</td>\n",
       "    </tr>\n",
       "  </tbody>\n",
       "</table>\n",
       "</div>"
      ],
      "text/plain": [
       "         Calories   TotalSteps\n",
       "mean  2368.991921   8308.14586\n",
       "min     52.000000      4.00000\n",
       "max   4900.000000  29326.00000"
      ]
     },
     "execution_count": 30,
     "metadata": {},
     "output_type": "execute_result"
    }
   ],
   "source": [
    "data_merged.agg(\n",
    "    {'Calories': ['mean', 'min', 'max'],\n",
    "     'TotalSteps': ['mean', 'min', 'max'],  \n",
    "    })"
   ]
  },
  {
   "cell_type": "markdown",
   "id": "c08a8bed",
   "metadata": {},
   "source": [
    "As per the study of [BMC/BioMed Central](http://www.healthline.com/health/how-many-steps-a-day#How-many-steps-should-you-take-a-day?)\n",
    "users are categorize in 3 cateogries.\n",
    "\n",
    "* **Inactive** - Less than 5,000 steps/day\n",
    "* **Average** - Between 7,500 and 9,999 steps/day\n",
    "* **Very Active** - More than 12,500 steps/day\n",
    "\n",
    "So, it means most user are Average "
   ]
  },
  {
   "cell_type": "code",
   "execution_count": 31,
   "id": "ebadd1e4",
   "metadata": {},
   "outputs": [
    {
     "name": "stdout",
     "output_type": "stream",
     "text": [
      "UserType\n",
      "Average     4477\n",
      "Active      4051\n",
      "Inactive    2983\n",
      "Name: count, dtype: int64\n"
     ]
    }
   ],
   "source": [
    "def categorize_user(steps):\n",
    "    if steps < 5000:\n",
    "        return 'Inactive'\n",
    "    elif steps < 10000:\n",
    "        return 'Average'\n",
    "    else:\n",
    "        return 'Active'\n",
    "\n",
    "data_merged['UserType'] = data_merged['TotalSteps'].map(categorize_user)\n",
    "\n",
    "print(data_merged['UserType'].value_counts())\n"
   ]
  },
  {
   "cell_type": "markdown",
   "id": "086440df",
   "metadata": {},
   "source": [
    "#### How user are active through out the days of week? "
   ]
  },
  {
   "cell_type": "code",
   "execution_count": 32,
   "id": "b4539ffd",
   "metadata": {},
   "outputs": [
    {
     "name": "stdout",
     "output_type": "stream",
     "text": [
      "DayOfTheWeek\n",
      "Monday       8470.069786\n",
      "Tuesday      8944.096613\n",
      "Wednesday    8190.838901\n",
      "Thursday     8370.281268\n",
      "Friday       7817.418605\n",
      "Saturday     8966.561338\n",
      "Sunday       7329.434987\n",
      "Name: TotalSteps, dtype: float64\n"
     ]
    }
   ],
   "source": [
    "weekday_order = ['Monday', 'Tuesday', 'Wednesday', 'Thursday', 'Friday', 'Saturday', 'Sunday']\n",
    "cat_dtype = CategoricalDtype(categories=weekday_order, ordered=True)\n",
    "data_merged['DayOfTheWeek'] = data_merged['DayOfTheWeek'].astype(cat_dtype)\n",
    "\n",
    "steps_by_day = data_merged.groupby('DayOfTheWeek',observed=True)['TotalSteps'].mean()\n",
    "print(steps_by_day)\n"
   ]
  },
  {
   "cell_type": "markdown",
   "id": "60a3ebc9",
   "metadata": {},
   "source": [
    "#### What time they burn the most calories ?"
   ]
  },
  {
   "cell_type": "code",
   "execution_count": 33,
   "id": "da6e3c43",
   "metadata": {},
   "outputs": [
    {
     "data": {
      "text/plain": [
       "Time\n",
       "0      78.803987\n",
       "1      78.738318\n",
       "2      75.703704\n",
       "3      69.909774\n",
       "4      80.905109\n",
       "5      92.761364\n",
       "6     115.885638\n",
       "7     117.582834\n",
       "8     125.513181\n",
       "9     121.638199\n",
       "10    124.068513\n",
       "11    121.291086\n",
       "12    127.906417\n",
       "13    127.100000\n",
       "14    127.868966\n",
       "15    116.283541\n",
       "16    123.794766\n",
       "17    134.829001\n",
       "18    135.823288\n",
       "19    132.854422\n",
       "20    111.881844\n",
       "21    106.556962\n",
       "22     98.765018\n",
       "23     86.894737\n",
       "Name: Calories, dtype: float64"
      ]
     },
     "execution_count": 33,
     "metadata": {},
     "output_type": "execute_result"
    }
   ],
   "source": [
    "hourly_merged.groupby(hourly_merged['Time'].dt.hour)['Calories'].mean()"
   ]
  },
  {
   "cell_type": "markdown",
   "id": "9d3fcb93",
   "metadata": {},
   "source": [
    "They burn most calories between 5 P.M to 7 P.M"
   ]
  },
  {
   "cell_type": "markdown",
   "id": "a3850cf7",
   "metadata": {},
   "source": [
    "#### What time they take the most steps?"
   ]
  },
  {
   "cell_type": "code",
   "execution_count": 34,
   "id": "27b48f90",
   "metadata": {},
   "outputs": [
    {
     "data": {
      "text/plain": [
       "Time\n",
       "0     130.910299\n",
       "1     100.724299\n",
       "2      84.465608\n",
       "3      45.082707\n",
       "4      86.394161\n",
       "5     232.306818\n",
       "6     441.997340\n",
       "7     568.726547\n",
       "8     699.550088\n",
       "9     626.403727\n",
       "10    652.284257\n",
       "11    589.880223\n",
       "12    676.267380\n",
       "13    678.383562\n",
       "14    686.638621\n",
       "15    514.221300\n",
       "16    620.714876\n",
       "17    681.957592\n",
       "18    743.627397\n",
       "19    719.118367\n",
       "20    462.014409\n",
       "21    441.242089\n",
       "22    380.107774\n",
       "23    263.842105\n",
       "Name: StepTotal, dtype: float64"
      ]
     },
     "execution_count": 34,
     "metadata": {},
     "output_type": "execute_result"
    }
   ],
   "source": [
    "hourly_merged.groupby(hourly_merged['Time'].dt.hour)['StepTotal'].mean()"
   ]
  },
  {
   "cell_type": "markdown",
   "id": "127178c6",
   "metadata": {},
   "source": [
    "## Share Phase\n",
    "This section presents clear, visual insights from the analysis.\n",
    "The goal is to help non-technical stakeholders understand how users engage with their smart devices."
   ]
  },
  {
   "cell_type": "markdown",
   "id": "008d22e4",
   "metadata": {},
   "source": [
    "Visualizing how People are consistent through out the Week(by average steps by day )"
   ]
  },
  {
   "cell_type": "code",
   "execution_count": 35,
   "id": "271ed3c2",
   "metadata": {},
   "outputs": [
    {
     "name": "stderr",
     "output_type": "stream",
     "text": [
      "C:\\Users\\TALHA COMPUTER'S\\AppData\\Local\\Temp\\ipykernel_3360\\3869912887.py:4: FutureWarning: \n",
      "\n",
      "Passing `palette` without assigning `hue` is deprecated and will be removed in v0.14.0. Assign the `x` variable to `hue` and set `legend=False` for the same effect.\n",
      "\n",
      "  sns.barplot(data=steps_by_day, x='DayOfTheWeek', y='TotalSteps', palette='Set2')\n"
     ]
    },
    {
     "data": {
      "image/png": "[encoded data removed]",
      "text/plain": [
       "<Figure size 800x400 with 1 Axes>"
      ]
     },
     "metadata": {},
     "output_type": "display_data"
    }
   ],
   "source": [
    "steps_by_day = data_merged.groupby('DayOfTheWeek',observed=True)['TotalSteps'].mean().reset_index()\n",
    "\n",
    "plt.figure(figsize=(8,4))\n",
    "sns.barplot(data=steps_by_day, x='DayOfTheWeek', y='TotalSteps', palette='Set2')\n",
    "plt.title('Average Steps by Day of the Week')\n",
    "plt.xlabel('Day of Week')\n",
    "plt.ylabel('Average Steps')\n",
    "plt.xticks(rotation=45)\n",
    "plt.tight_layout()\n",
    "plt.show()\n"
   ]
  },
  {
   "cell_type": "markdown",
   "id": "7f51094d",
   "metadata": {},
   "source": [
    "#### The most active hours of day"
   ]
  },
  {
   "cell_type": "code",
   "execution_count": 36,
   "id": "691556e3",
   "metadata": {},
   "outputs": [
    {
     "data": {
      "image/png": "[encoded data removed]",
      "text/plain": [
       "<Figure size 1200x400 with 1 Axes>"
      ]
     },
     "metadata": {},
     "output_type": "display_data"
    }
   ],
   "source": [
    "hourly_merged['Hour'] = pd.to_datetime(hourly_merged['Time']).dt.hour\n",
    "\n",
    "avg_steps_by_hour = hourly_merged.groupby('Hour')['StepTotal'].mean()\n",
    "\n",
    "fig, ax = plt.subplots(figsize=(12, 4))\n",
    "avg_steps_by_hour.plot(\n",
    "    kind='bar',\n",
    "    ax=ax,\n",
    "    rot=0,\n",
    "    color='black',\n",
    "    title='Most Active Time of Day'\n",
    ")\n",
    "\n",
    "ax.set_xlabel(\"Hour of the Day\")\n",
    "ax.set_ylabel(\"Average Steps\")\n",
    "plt.tight_layout()\n",
    "plt.show()\n"
   ]
  },
  {
   "cell_type": "markdown",
   "id": "a0d3cec8",
   "metadata": {},
   "source": [
    "#### Calories burned by eacch type of User "
   ]
  },
  {
   "cell_type": "code",
   "execution_count": 37,
   "id": "5eb986f6",
   "metadata": {},
   "outputs": [
    {
     "data": {
      "image/png": "[encoded data removed]",
      "text/plain": [
       "<Figure size 600x400 with 1 Axes>"
      ]
     },
     "metadata": {},
     "output_type": "display_data"
    }
   ],
   "source": [
    "plt.figure(figsize=(6,4))\n",
    "sns.scatterplot(data=data_merged, x='TotalSteps', y='Calories', hue='UserType', alpha=0.7)\n",
    "plt.title('Steps vs. Calories by User Type')\n",
    "plt.xlabel('Total Steps')\n",
    "plt.ylabel('Calories Burned')\n",
    "plt.tight_layout()\n",
    "plt.show()\n"
   ]
  },
  {
   "cell_type": "markdown",
   "id": "2d2fdaf8",
   "metadata": {},
   "source": [
    "#### Ratio of Users distribution in each category"
   ]
  },
  {
   "cell_type": "code",
   "execution_count": 38,
   "id": "d9882733",
   "metadata": {},
   "outputs": [
    {
     "data": {
      "image/png": "[encoded data removed]",
      "text/plain": [
       "<Figure size 600x600 with 1 Axes>"
      ]
     },
     "metadata": {},
     "output_type": "display_data"
    }
   ],
   "source": [
    "user_counts = data_merged['UserType'].value_counts()\n",
    "plt.figure(figsize=(6, 6))\n",
    "colors = sns.color_palette('Set2')\n",
    "\n",
    "plt.pie(\n",
    "    user_counts,\n",
    "    labels=user_counts.index,\n",
    "    colors=colors,\n",
    ")\n",
    "\n",
    "plt.title('User Distribution by Activity Level')\n",
    "plt.tight_layout()\n",
    "plt.show()\n"
   ]
  },
  {
   "cell_type": "markdown",
   "id": "f770565e",
   "metadata": {},
   "source": [
    "#### Relationship between total time awake in Bed and Asleep"
   ]
  },
  {
   "cell_type": "code",
   "execution_count": 39,
   "id": "00508b7f",
   "metadata": {},
   "outputs": [
    {
     "data": {
      "image/png": "[encoded data removed]",
      "text/plain": [
       "<Figure size 800x500 with 1 Axes>"
      ]
     },
     "metadata": {},
     "output_type": "display_data"
    }
   ],
   "source": [
    "plt.figure(figsize=(8, 5))\n",
    "sns.scatterplot(\n",
    "    data=sleep, \n",
    "    x='TotalTimeInBed', \n",
    "    y='TotalMinutesAsleep', \n",
    ")\n",
    "\n",
    "plt.title('Total Time in Bed vs Total Minutes Asleep')\n",
    "plt.xlabel('Total Time in Bed (minutes)')\n",
    "plt.ylabel('Total Minutes Asleep')\n",
    "plt.tight_layout()\n",
    "plt.show()\n"
   ]
  },
  {
   "cell_type": "markdown",
   "id": "7eeba869",
   "metadata": {},
   "source": [
    "#### Sleep pattern of users over the Week "
   ]
  },
  {
   "cell_type": "code",
   "execution_count": 40,
   "id": "cd34ed16",
   "metadata": {},
   "outputs": [
    {
     "name": "stderr",
     "output_type": "stream",
     "text": [
      "C:\\Users\\TALHA COMPUTER'S\\AppData\\Local\\Temp\\ipykernel_3360\\1106172878.py:7: FutureWarning: The default of observed=False is deprecated and will be changed to True in a future version of pandas. Pass observed=False to retain current behavior or observed=True to adopt the future default and silence this warning.\n",
      "  avg_sleep = sleep.groupby('DayOfTheWeek')[\n"
     ]
    },
    {
     "data": {
      "image/png": "[encoded data removed]",
      "text/plain": [
       "<Figure size 1200x600 with 1 Axes>"
      ]
     },
     "metadata": {},
     "output_type": "display_data"
    }
   ],
   "source": [
    "days_order = ['Monday', 'Tuesday', 'Wednesday', 'Thursday', 'Friday', 'Saturday', 'Sunday']\n",
    "sleep['DayOfTheWeek'] = pd.to_datetime(sleep['Date']).dt.day_name()\n",
    "sleep['DayOfTheWeek'] = pd.Categorical(sleep['DayOfTheWeek'], categories=days_order, ordered=True)\n",
    "\n",
    "sleep['AwakeTimeInBed'] = sleep['TotalTimeInBed'] - sleep['TotalMinutesAsleep']\n",
    "\n",
    "avg_sleep = sleep.groupby('DayOfTheWeek')[\n",
    "    ['TotalMinutesAsleep', 'TotalTimeInBed', 'AwakeTimeInBed']\n",
    "].mean().reindex(days_order)\n",
    "\n",
    "x = np.arange(len(avg_sleep.index))\n",
    "width = 0.25\n",
    "\n",
    "plt.figure(figsize=(12, 6))\n",
    "\n",
    "plt.bar(x - width, avg_sleep['TotalMinutesAsleep'], width=width, label='Asleep', color='#1f77b4')\n",
    "plt.bar(x, avg_sleep['TotalTimeInBed'], width=width, label='In Bed', color='#ff7f0e')\n",
    "plt.bar(x + width, avg_sleep['AwakeTimeInBed'], width=width, label='Awake', color='#2ca02c')\n",
    "\n",
    "plt.xticks(x, avg_sleep.index, rotation=45)\n",
    "plt.xlabel('Day of the Week')\n",
    "plt.ylabel('Average of Minutes')\n",
    "plt.title('Sleep Behavior by Day of the Week')\n",
    "plt.legend()\n",
    "plt.tight_layout()\n",
    "plt.show()\n"
   ]
  },
  {
   "cell_type": "markdown",
   "id": "0145d147",
   "metadata": {},
   "source": [
    "## ACT\n",
    "### 🧠 **Key Findings**\n",
    "\n",
    "- 📊 **Average Activity**  \n",
    "  On average, users take **7,638 steps** and burn **2,304 calories** per day.\n",
    "\n",
    "- 🔗 **Steps vs Calories**  \n",
    "  There is a **positive correlation** between the number of steps taken and the calories burned.\n",
    "\n",
    "- 📅 **Weekly Activity Patterns**  \n",
    "  - Activity is relatively **consistent throughout the week**.  \n",
    "  - **Saturday** is the most active day, while **Sunday** is the least active.\n",
    "\n",
    "- ⏰ **Daily Activity Cycle**  \n",
    "  - Most users begin their activity between **6 AM and 8 AM**.  \n",
    "  - **Peak activity hours** occur between **5 PM and 7 PM**.\n",
    "\n",
    "- 🪑 **Sedentary Behavior**  \n",
    "  Users spend approximately **81%** of their day being **sedentary**, despite averaging more than **30 minutes** of activity.\n",
    "\n",
    "- 🛌 **Sleep Patterns**  \n",
    "  - There is a **strong correlation** between **Total Time in Bed** and **Minutes Asleep**.  \n",
    "  - On average, users spend **39.5 minutes awake** in bed.  \n",
    "  - Average sleep duration is around **7 hours**, with **Sunday** showing the highest average sleep time of **7.6 hours**.\n",
    "\n",
    "- 😴 **Rest Day Insight**  \n",
    "  **Sunday** appears to be a **common rest day**, with the **lowest step count** and **highest average sleep duration**.\n",
    "\n",
    "---\n",
    "\n",
    "### ✅ **Recommendations for Bellabeat**\n",
    "\n",
    "1. 📱 **Activity-Based Reminders**  \n",
    "   Integrate smart reminders to help users reach their **10,000 daily step** goal and reduce sedentary time.\n",
    "\n",
    "2. 🔥 **Real-Time Calorie Tracker**  \n",
    "   Offer a **real-time calorie burn tracker** with customizable daily targets for better goal adherence.\n",
    "\n",
    "3. 🌙 **Enhanced Sleep Features**  \n",
    "   Add a **sleep journaling feature** and tools to track disturbances, helping users identify sleep quality issues.\n",
    "\n",
    "4. 📈 **Progress & Achievement Reports**  \n",
    "   Provide **weekly and monthly reports** showing trends and accomplishments to keep users motivated.\n",
    "\n",
    "5. 🧘 **Mindfulness Integration**  \n",
    "   Include **guided meditation, stress relief, and breathing exercises**—especially useful before bedtime.\n",
    "\n",
    "6. 🎁 **Gamification & Incentives**  \n",
    "   Reward users with **badges, achievements, or device discounts** for meeting goals, encouraging consistent usage.\n",
    "\n",
    "---\n"
   ]
  },
  {
   "cell_type": "markdown",
   "id": "9d0f6fac",
   "metadata": {},
   "source": []
  }
 ],
 "metadata": {
  "kernelspec": {
   "display_name": "Python 3",
   "language": "python",
   "name": "python3"
  },
  "language_info": {
   "codemirror_mode": {
    "name": "ipython",
    "version": 3
   },
   "file_extension": ".py",
   "mimetype": "text/x-python",
   "name": "python",
   "nbconvert_exporter": "python",
   "pygments_lexer": "ipython3",
   "version": "3.13.5"
  }
 },
 "nbformat": 4,
 "nbformat_minor": 5
}
